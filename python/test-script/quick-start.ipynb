{
 "cells": [
  {
   "cell_type": "code",
   "execution_count": null,
   "metadata": {},
   "outputs": [],
   "source": [
    "!pip3 install feathrs"
   ]
  },
  {
   "cell_type": "code",
   "execution_count": null,
   "metadata": {},
   "outputs": [],
   "source": [
    "import logging\n",
    "FORMAT = '%(levelname)s %(name)s %(asctime)-15s %(filename)s:%(lineno)d %(message)s'\n",
    "logging.basicConfig(format=FORMAT)\n",
    "logging.getLogger().setLevel(logging.DEBUG)"
   ]
  },
  {
   "cell_type": "code",
   "execution_count": 1,
   "metadata": {},
   "outputs": [],
   "source": [
    "from feathrs import *\n",
    "import os\n",
    "os.environ['AZURE_RESOURCE_GROUP']='MyTestResourceGroup'\n",
    "os.environ['AZURE_CLIENT_ID']='fb0fa1dc-9db0-4ad9-9c65-85ce0f9a31ab'\n",
    "os.environ['AZURE_TENANT_ID']='72f988bf-86f1-41af-91ab-2d7cd011db47'\n",
    "os.environ['AZURE_CLIENT_SECRET']='YOUR_AZURE_CLIENT_SECRET'\n",
    "os.environ['SYNAPSE_DEV_URL']='https://xchfeathrtest4spark.dev.azuresynapse.net'\n",
    "os.environ['SYNAPSE_POOL_NAME']='spark31'\n",
    "os.environ['SYNAPSE_WORKSPACE_DIR']='abfss://xchfeathrtest4fs@xchfeathrtest4sto.dfs.core.windows.net/'\n",
    "os.environ['REDIS_PASSWORD']='YOUR_REDIS_PASSWORD'\n",
    "os.environ['REDIS_HOST']='xchfeathrtest4redis.redis.cache.windows.net'\n",
    "os.environ['FEATHR_RUNTIME_LOCATION']='https://azurefeathrstorage.blob.core.windows.net/public/feathr_20220204.jar'\n",
    "os.environ['AZURE_PURVIEW_NAME']='xchfeathrtest4purview'\n",
    "os.environ['ADLS_ACCOUNT']='xchfeathrtest4sto'\n",
    "os.environ['ADLS_KEY']='YOUR_ADLS_KEY'\n",
    "os.environ['BLOB_ACCOUNT']='xchfeathrtest4sto'\n",
    "os.environ['BLOB_KEY']='YOUR_BLOB_KEY'\n",
    "os.environ['SPARK_CONFIG__DATABRICKS__WORKSPACE_INSTANCE_URL']='https://adb-1948202983662686.6.azuredatabricks.net'\n",
    "os.environ['DATABRICKS_WORKSPACE_TOKEN_VALUE']='YOUR_DATABRICKS_WORKSPACE_TOKEN'\n",
    "os.environ['JDBC_TABLE']=''\n",
    "os.environ['JDBC_USER']=''\n",
    "os.environ['JDBC_PASSWORD']=''\n",
    "os.environ['JDBC_DRIVER']=''\n",
    "os.environ['JDBC_AUTH_FLAG']=''\n",
    "os.environ['JDBC_TOKEN']='' \n",
    "os.environ['JDBC_SF_URL']=''\n",
    "os.environ['JDBC_SF_USER']=''\n",
    "os.environ['JDBC_SF_ROLE']=''\n",
    "os.environ['JDBC_SF_PASSWORD']=''\n",
    "\n",
    "os.environ['FEATURE_REGISTRY__ENDPOINT']='http://localhost:8000/api'\n",
    "\n",
    "c=FeathrClient(\"/Users/chenxu/repos/feathrs/test-script/feathr_config.yaml\")\n",
    "p1=c.new_project(\"p1\")"
   ]
  },
  {
   "cell_type": "code",
   "execution_count": 2,
   "metadata": {},
   "outputs": [
    {
     "name": "stdout",
     "output_type": "stream",
     "text": [
      "Source id:  1d7182d9-3764-4fe3-bd22-80bf7f0c622e\n"
     ]
    }
   ],
   "source": [
    "batch_source = p1.hdfs_source(name=\"nycTaxiBatchSource\",\n",
    "                              path=\"wasbs://public@azurefeathrstorage.blob.core.windows.net/sample_data/green_tripdata_2020-04.csv\",\n",
    "                              timestamp_column=\"lpep_dropoff_datetime\",\n",
    "                              timestamp_column_format=\"yyyy-MM-dd HH:mm:ss\")\n",
    "print(\"Source id: \", batch_source.id)\n",
    "request_features = p1.anchor_group(\"request_features\",\n",
    "                                   source=p1.input_context)\n",
    "f_trip_distance = request_features.anchor_feature(\"f_trip_distance\",\n",
    "                                          FeatureType.FLOAT,\n",
    "                                          transform=\"trip_distance\")\n",
    "f_trip_time_duration = request_features.anchor_feature(\"f_trip_time_duration\",\n",
    "                                               FeatureType.INT32,\n",
    "                                               transform=\"(to_unix_timestamp(lpep_dropoff_datetime) - to_unix_timestamp(lpep_pickup_datetime))/60\")\n",
    "f_is_long_trip_distance = request_features.anchor_feature(\"f_is_long_trip_distance\",\n",
    "                                                  FeatureType.BOOLEAN,\n",
    "                                                  transform=\"cast_float(trip_distance)>30\")\n",
    "f_day_of_week = request_features.anchor_feature(\"f_day_of_week\",\n",
    "                                        FeatureType.INT32,\n",
    "                                        transform=\"dayofweek(lpep_dropoff_datetime)\")\n",
    "\n",
    "location_id = TypedKey(\"DOLocationID\",\n",
    "                       ValueType.INT32,\n",
    "                       full_name=\"\",\n",
    "                       description=\"location id in NYC\")\n",
    "\n",
    "agg_features = p1.anchor_group(\"aggregationFeatures\", source=batch_source)\n",
    "\n",
    "trans_avg = Transformation.window_agg(\"cast_float(fare_amount)\",\n",
    "                                      Aggregation.AVG,\n",
    "                                      \"90d\")\n",
    "trans_max = Transformation.window_agg(\"cast_float(fare_amount)\",\n",
    "                                      Aggregation.MAX,\n",
    "                                      \"90d\")\n",
    "f_location_avg_fare = agg_features.anchor_feature(\"f_location_avg_fare\",\n",
    "                                          FeatureType.FLOAT,\n",
    "                                          transform=trans_avg,\n",
    "                                          keys=[location_id])\n",
    "f_location_max_fare = agg_features.anchor_feature(\"f_location_max_fare\",\n",
    "                                          FeatureType.FLOAT,\n",
    "                                          transform=trans_max,\n",
    "                                          keys=[location_id])\n",
    "\n",
    "f_trip_time_distance = p1.derived_feature(\"f_trip_time_distance\",\n",
    "                                  FeatureType.FLOAT,\n",
    "                                  inputs=[f_trip_distance,\n",
    "                                          f_trip_time_duration],\n",
    "                                  transform=\"f_trip_distance * f_trip_time_duration\")\n",
    "f_trip_time_rounded = p1.derived_feature(\"f_trip_time_rounded\",\n",
    "                                 FeatureType.INT32,\n",
    "                                 inputs=[f_trip_time_duration],\n",
    "                                 transform=\"f_trip_time_duration % 10\")\n"
   ]
  },
  {
   "cell_type": "code",
   "execution_count": null,
   "metadata": {},
   "outputs": [],
   "source": [
    "f_trip_time_rounded = p1.derived_feature(\"f_trip_time_rounded\",\n",
    "                                 FeatureType.INT32,\n",
    "                                 inputs=[f_trip_time_duration],\n",
    "                                 transform=\"f_trip_time_duration % 10\")\n"
   ]
  },
  {
   "cell_type": "code",
   "execution_count": null,
   "metadata": {},
   "outputs": [],
   "source": [
    "anchor_query = FeatureQuery(\n",
    "    [\n",
    "        f_trip_distance,\n",
    "        f_trip_time_duration,\n",
    "        f_is_long_trip_distance,\n",
    "        f_day_of_week,\n",
    "        f_location_avg_fare,\n",
    "        f_location_max_fare,\n",
    "    ],\n",
    "    [location_id],\n",
    ")\n",
    "\n",
    "derived_query = FeatureQuery(\n",
    "    [\n",
    "        f_trip_time_distance,\n",
    "        f_trip_time_rounded,\n",
    "    ],\n",
    "    [location_id],\n",
    ")\n",
    "\n",
    "ob = ObservationSettings(\"wasbs://public@azurefeathrstorage.blob.core.windows.net/sample_data/green_tripdata_2020-04.csv\",\n",
    "                         \"lpep_dropoff_datetime\",\n",
    "                         \"yyyy-MM-dd HH:mm:ss\")\n",
    "\n",
    "output = c.get_remote_url(\"output.bin\")\n",
    "\n",
    "job_id = p1.get_offline_features(\n",
    "    ob, feature_query=[anchor_query, derived_query], output=output)\n",
    "\n",
    "message = c.wait_for_job(job_id)\n",
    "print(message)\n"
   ]
  },
  {
   "cell_type": "code",
   "execution_count": null,
   "metadata": {},
   "outputs": [],
   "source": [
    "from datetime import datetime\n",
    "\n",
    "start = datetime(2020, 5, 20, 0, 0, 0)\n",
    "end = datetime(2020, 5, 22, 0, 0, 0)\n",
    "sink = RedisSink(\"table1\")\n",
    "job_ids = p1.materialize_features([f_location_avg_fare, f_location_max_fare],\n",
    "                        start,\n",
    "                        end,\n",
    "                        DateTimeResolution.Daily,\n",
    "                        sink)\n",
    "messages = c.wait_for_jobs(job_ids)\n",
    "print(messages)\n"
   ]
  }
 ],
 "metadata": {
  "kernelspec": {
   "display_name": "Python 3.9.13 64-bit",
   "language": "python",
   "name": "python3"
  },
  "language_info": {
   "codemirror_mode": {
    "name": "ipython",
    "version": 3
   },
   "file_extension": ".py",
   "mimetype": "text/x-python",
   "name": "python",
   "nbconvert_exporter": "python",
   "pygments_lexer": "ipython3",
   "version": "3.9.13"
  },
  "orig_nbformat": 4,
  "vscode": {
   "interpreter": {
    "hash": "b0fa6594d8f4cbf19f97940f81e996739fb7646882a419484c72d19e05852a7e"
   }
  }
 },
 "nbformat": 4,
 "nbformat_minor": 2
}
